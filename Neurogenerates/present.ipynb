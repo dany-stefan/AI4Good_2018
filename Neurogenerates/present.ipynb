{
 "cells": [
  {
   "cell_type": "markdown",
   "metadata": {},
   "source": [
    "# AI For Social Good\n",
    "## NeuroGenerates\n",
    "### An AI Triage Tool for your Health \n",
    "Carolyne, Jules, Mary, Rez, Sam"
   ]
  },
  {
   "cell_type": "code",
   "execution_count": 1,
   "metadata": {},
   "outputs": [],
   "source": [
    "import pandas as pd\n",
    "import numpy as np"
   ]
  },
  {
   "cell_type": "markdown",
   "metadata": {},
   "source": [
    "# Sanitize the Data\n",
    "We sanitized the Data by removing duplicates with the uni_name function and by replacing empty ages by an average of age, which is 32"
   ]
  },
  {
   "cell_type": "code",
   "execution_count": 2,
   "metadata": {},
   "outputs": [],
   "source": [
    "def cleanTrackable_type(x):\n",
    "    if x in ['Condition','Symptom','Treatment']:\n",
    "        clean = True\n",
    "    else:\n",
    "        clean = False\n",
    "    return clean"
   ]
  },
  {
   "cell_type": "code",
   "execution_count": 3,
   "metadata": {},
   "outputs": [
    {
     "name": "stderr",
     "output_type": "stream",
     "text": [
      "/Library/Frameworks/Python.framework/Versions/3.6/lib/python3.6/site-packages/IPython/core/interactiveshell.py:2728: DtypeWarning: Columns (5) have mixed types. Specify dtype option on import or set low_memory=False.\n",
      "  interactivity=interactivity, compiler=compiler, result=result)\n"
     ]
    },
    {
     "data": {
      "text/html": [
       "<div>\n",
       "<style scoped>\n",
       "    .dataframe tbody tr th:only-of-type {\n",
       "        vertical-align: middle;\n",
       "    }\n",
       "\n",
       "    .dataframe tbody tr th {\n",
       "        vertical-align: top;\n",
       "    }\n",
       "\n",
       "    .dataframe thead th {\n",
       "        text-align: right;\n",
       "    }\n",
       "</style>\n",
       "<table border=\"1\" class=\"dataframe\">\n",
       "  <thead>\n",
       "    <tr style=\"text-align: right;\">\n",
       "      <th></th>\n",
       "      <th>user_id</th>\n",
       "      <th>age</th>\n",
       "      <th>sex</th>\n",
       "      <th>country</th>\n",
       "      <th>checkin_date</th>\n",
       "      <th>trackable_id</th>\n",
       "      <th>trackable_type</th>\n",
       "      <th>trackable_name</th>\n",
       "      <th>trackable_value</th>\n",
       "    </tr>\n",
       "  </thead>\n",
       "  <tbody>\n",
       "    <tr>\n",
       "      <th>0</th>\n",
       "      <td>QEVuQwEABlEzkh7fsBBjEe26RyIVcg==</td>\n",
       "      <td>NaN</td>\n",
       "      <td>NaN</td>\n",
       "      <td>NaN</td>\n",
       "      <td>2015-11-26</td>\n",
       "      <td>1069</td>\n",
       "      <td>Condition</td>\n",
       "      <td>ulcerative colitis</td>\n",
       "      <td>0</td>\n",
       "    </tr>\n",
       "    <tr>\n",
       "      <th>1</th>\n",
       "      <td>QEVuQwEAWRNGnuTRqXG2996KSkTIEw==</td>\n",
       "      <td>30.0</td>\n",
       "      <td>male</td>\n",
       "      <td>US</td>\n",
       "      <td>2015-11-26</td>\n",
       "      <td>1069</td>\n",
       "      <td>Condition</td>\n",
       "      <td>ulcerative colitis</td>\n",
       "      <td>0</td>\n",
       "    </tr>\n",
       "    <tr>\n",
       "      <th>2</th>\n",
       "      <td>QEVuQwEA+WkNxtp/qkHvN2YmTBBDqg==</td>\n",
       "      <td>NaN</td>\n",
       "      <td>female</td>\n",
       "      <td>CA</td>\n",
       "      <td>2017-04-28</td>\n",
       "      <td>3168</td>\n",
       "      <td>Condition</td>\n",
       "      <td>pain in left upper arm felt like i was getting...</td>\n",
       "      <td>4</td>\n",
       "    </tr>\n",
       "    <tr>\n",
       "      <th>3</th>\n",
       "      <td>QEVuQwEA+WkNxtp/qkHvN2YmTBBDqg==</td>\n",
       "      <td>NaN</td>\n",
       "      <td>female</td>\n",
       "      <td>CA</td>\n",
       "      <td>2017-04-28</td>\n",
       "      <td>3169</td>\n",
       "      <td>Condition</td>\n",
       "      <td>hip pain when gettin up</td>\n",
       "      <td>3</td>\n",
       "    </tr>\n",
       "    <tr>\n",
       "      <th>4</th>\n",
       "      <td>QEVuQwEA+WkNxtp/qkHvN2YmTBBDqg==</td>\n",
       "      <td>NaN</td>\n",
       "      <td>female</td>\n",
       "      <td>CA</td>\n",
       "      <td>2017-04-28</td>\n",
       "      <td>3170</td>\n",
       "      <td>Condition</td>\n",
       "      <td>pain in hand joints</td>\n",
       "      <td>4</td>\n",
       "    </tr>\n",
       "  </tbody>\n",
       "</table>\n",
       "</div>"
      ],
      "text/plain": [
       "                            user_id   age     sex country checkin_date  \\\n",
       "0  QEVuQwEABlEzkh7fsBBjEe26RyIVcg==   NaN     NaN     NaN   2015-11-26   \n",
       "1  QEVuQwEAWRNGnuTRqXG2996KSkTIEw==  30.0    male      US   2015-11-26   \n",
       "2  QEVuQwEA+WkNxtp/qkHvN2YmTBBDqg==   NaN  female      CA   2017-04-28   \n",
       "3  QEVuQwEA+WkNxtp/qkHvN2YmTBBDqg==   NaN  female      CA   2017-04-28   \n",
       "4  QEVuQwEA+WkNxtp/qkHvN2YmTBBDqg==   NaN  female      CA   2017-04-28   \n",
       "\n",
       "  trackable_id trackable_type  \\\n",
       "0         1069      Condition   \n",
       "1         1069      Condition   \n",
       "2         3168      Condition   \n",
       "3         3169      Condition   \n",
       "4         3170      Condition   \n",
       "\n",
       "                                      trackable_name trackable_value  \n",
       "0                                 ulcerative colitis               0  \n",
       "1                                 ulcerative colitis               0  \n",
       "2  pain in left upper arm felt like i was getting...               4  \n",
       "3                            hip pain when gettin up               3  \n",
       "4                                pain in hand joints               4  "
      ]
     },
     "execution_count": 3,
     "metadata": {},
     "output_type": "execute_result"
    }
   ],
   "source": [
    "df = pd.read_csv('fd-export.csv')\n",
    "df = df[[cleanTrackable_type(i) for i in df['trackable_type']]]\n",
    "df['trackable_name'] = [i.lower() for i in df['trackable_name']]\n",
    "df['age'] = df.age.replace(0.0,np.nan)\n",
    "df.head()"
   ]
  },
  {
   "cell_type": "code",
   "execution_count": 4,
   "metadata": {},
   "outputs": [],
   "source": [
    "df['age'] = df.age.replace(np.nan,32)\n",
    "df['age'] = df['age']/50.0\n",
    "df['sex'] = df.sex.replace(np.nan,'doesnt_say')\n",
    "df=df.dropna(subset = ['trackable_name'])"
   ]
  },
  {
   "cell_type": "code",
   "execution_count": 5,
   "metadata": {},
   "outputs": [],
   "source": [
    "def uni_name(s):\n",
    "  if s=='neck and shoulder pain': return 'neck pain'\n",
    "  elif s=='migraines': return 'migraine'\n",
    "  elif s=='dislocations': return 'subluxation'\n",
    "  elif s=='right hip pain': return 'hip pain'\n",
    "  elif s=='left hip pain': return 'hip pain'\n",
    "  elif s=='right shoulder pain': return 'shoulder pain'\n",
    "  elif s=='left shoulder pain': return 'shoulder pain'\n",
    "  elif s=='physical fatigue': return 'fatigue'\n",
    "  elif s=='tiredness': return 'fatigue'\n",
    "  elif s=='muscle ache': return 'fatigue'\n",
    "  elif s=='body aches': return 'fatigue'\n",
    "  elif s=='body aching': return 'fatigue'\n",
    "  elif s=='pain': return 'fatigue'\n",
    "  elif s=='exhaustion': return 'fatigue'\n",
    "  elif s=='muscle pain': return 'fatigue'\n",
    "  elif s=='fatigue and tiredness': return 'fatigue'\n",
    "  elif s=='headaches': return 'headache'\n",
    "  elif s=='vomiting': return 'nausea'\n",
    "  elif s=='social anxiety': return 'anxiety'\n",
    "  elif s=='stress': return 'anxiety'\n",
    "  elif s=='lightheadedness': return 'dizziness'\n",
    "  elif s=='dizzyness': return 'dizziness'\n",
    "  elif s=='middle back pain': return 'back pain'\n",
    "  elif s=='body aching': return 'back pain'\n",
    "  elif s=='lower abdomen pain': return 'stomach pain'\n",
    "  elif s=='abdominal pain': return 'stomach pain'\n",
    "  elif s=='gas': return 'bloating'\n",
    "  elif s=='dry eyes': return 'dry eye'\n",
    "  elif s=='chronic fatigue': return 'chronic pain'\n",
    "  elif s=='muscle cramps': return 'muscle spasms'\n",
    "  elif s=='right knee pain': return 'knee pain'\n",
    "  elif s=='left knee pain': return 'knee pain'\n",
    "  elif s=='palpatations': return 'palpitations'\n",
    "  elif s=='heart palpitations': return 'palpitations'\n",
    "  elif s=='heartburn': return 'acid reflux'\n",
    "  elif s=='middle back pain': return 'back pain'\n",
    "  elif s=='muscle twitching': return 'tremor'\n",
    "  elif s=='shaking hands': return 'tremor'\n",
    "  elif s=='low appetite': return 'loss of appetite'\n",
    "  elif s=='decreased appetite': return 'loss of appetite'\n",
    "  elif s=='low mood': return 'mental fatigue'\n",
    "  elif s=='sleep disturbance': return 'sleep problems'\n",
    "  elif s=='poor sleep': return 'unrefreshing sleep'\n",
    "  elif s=='suicidal thoughts': return 'suicidal ideation'\n",
    "  elif s=='memory loss': return 'memory problems'\n",
    "  elif s=='pins and needles': return 'numbness'\n",
    "  elif s=='numbness fingers': return 'numbness'\n",
    "  elif s=='low motivation': return 'lack of motivation'\n",
    "  elif s=='afternoon sleepiness': return 'excess daytime sleepiness'\n",
    "  elif s=='mood': return 'anger'\n",
    "  elif s=='sleep disturbance': return 'sleep problems'\n",
    "  elif s=='cymbalta ' : return 'duloxetine'\n",
    "  elif s=='levothyroxine' : return 'thyroxin'\n",
    "  elif s=='omeprazole' : return 'Omeprazole'\n",
    "  elif s=='plaquenil' : return 'hydroxychloroquine'\n",
    "  elif s=='synthroid' : return 'thyroxin'\n",
    "  elif s=='lyrica' : return 'pregabalin'\n",
    "  elif s=='zofran' : return 'ondansetron'\n",
    "  elif s=='wellbutrin' : return 'Bupropion'\n",
    "  elif s=='celebrex' : return 'Celecoxib'\n",
    "  elif s=='prozac' : return 'Fluoxetine'\n",
    "  elif s=='aleve' : return 'Naproxen'\n",
    "  elif s=='lexapro' : return 'Escitalopram'\n",
    "  elif s=='mezavant' : return 'Mesalazine'\n",
    "  elif s=='cbd' : return 'Cannabidiol'\n",
    "  elif s=='adderall' : return 'Amphetamine'\n",
    "  elif s=='azathioprine' : return 'Imuran'\n",
    "  elif s=='xanax' : return 'Alprazolam'\n",
    "  elif s=='seroquel' : return 'Quetiapine'\n",
    "  elif s=='prilosec' : return 'Omeprazole'\n",
    "  elif s=='wellbutrin xl' : return 'Bupropion'\n",
    "  elif s=='lamictal' : return 'Lamotrigine'\n",
    "  elif s=='klonopin' : return 'clonazepam'\n",
    "  elif s=='cbd oil' : return 'Cannabidiol'\n",
    "  elif s=='imuran' : return 'Imuran'\n",
    "  elif s=='esomeprazole' : return 'Omeprazole'\n",
    "  elif s=='dexamphetamine' : return 'Amphetamine'\n",
    "  elif s=='cbd from hemp' : return 'Cannabidiol'\n",
    "  elif s=='cbd capsules' : return 'Cannabidiol'\n",
    "  elif s=='dexlansoprazole' : return 'lansoprazole'\n",
    "  elif s=='cbd vape' : return 'Cannabidiol'\n",
    "  elif s=='metoprolol tartrate' : return 'Metoprolol'\n",
    "  elif s=='oxycodone lp' : return 'Oxycodone'\n",
    "  elif s=='cbd cream' : return 'Cannabidiol'\n",
    "  elif s=='klonopin prn' : return 'clonazepam'\n",
    "  elif s=='quetiapine xr' : return 'Quetiapine'\n",
    "  elif s=='cannabis cbd capsule 10mg' : return 'Cannabidiol'\n",
    "  elif s=='puff w/ cbd' : return 'Cannabidiol'\n",
    "  elif s=='lopressor' : return 'metoprolol'\n",
    "  elif s=='dextroamphetamine' : return 'Amphetamine'\n",
    "  elif s=='oxycodone-acetaminophen' : return 'Oxycodone'\n",
    "  elif s=='omeprazole 20mg' : return 'Omeprazole'\n",
    "  elif s=='prozac 20mg' : return 'Fluoxetine'\n",
    "  elif s=='quetiapine modified release' : return 'Quetiapine'\n",
    "  elif s=='amphetamine salts' : return 'Amphetamine'\n",
    "  elif s=='prozac (morning)' : return 'Fluoxetine'\n",
    "  elif s=='19:1 cbd:thc capsule' : return 'Cannabidiol'\n",
    "  elif s=='klonopin odt' : return 'clonazepam'\n",
    "  elif s=='cbd joint' : return 'Cannabidiol'\n",
    "  elif s=='cannabis cbd oil' : return 'Cannabidiol'\n",
    "  elif s=='supplement - cbd 2 x 2 + w/s pump' : return 'Cannabidiol'\n",
    "  elif s=='19:1 thc:cbd vape pen' : return 'Cannabidiol'\n",
    "  elif s=='cbd balm' : return 'Cannabidiol'\n",
    "  elif s=='cbd:thc' : return 'Cannabidiol'\n",
    "  elif s=='nano cbd' : return 'Cannabidiol'\n",
    "  elif s=='lamictal 8am' : return 'Lamotrigine'\n",
    "  elif s=='klonipin' : return 'clonazepam'\n",
    "  elif s=='metoprolol2' : return 'Metoprolol'\n",
    "  elif s=='methylphenidate er' : return 'methylphenidate'\n",
    "  elif s=='ibs': return 'irritable bowel syndrome'\n",
    "  elif s=='pots': return 'postural orthostatic tachycardia syndrome'\n",
    "  elif s=='postural orthostatic tachycardia syndrome (pots)': return 'postural orthostatic tachycardia syndrome'\n",
    "  elif s=='gerd': return 'gastroesophageal reflux disease'\n",
    "  elif s=='pcos': return 'polycystic ovary syndrome'\n",
    "  elif s=='ptsd': return 'post-traumatic stress disorder'\n",
    "  elif s=='post-traumatic stress disorder (ptsd)': return 'post-traumatic stress disorder'\n",
    "  elif s=='ocd': return 'obsessive compulsive disorder'\n",
    "  else: return s\n",
    "df['trackable_name'] = df['trackable_name'].apply(uni_name)\n",
    "df['trackable_name'] = [i.lower() for i in df['trackable_name']]"
   ]
  },
  {
   "cell_type": "code",
   "execution_count": 6,
   "metadata": {},
   "outputs": [],
   "source": [
    "SymOrder = df[df['trackable_type']=='Symptom'].groupby('trackable_name').count().sort_values(by=['user_id'],ascending=False)\n",
    "CondOrder = df[df['trackable_type']=='Condition'].groupby('trackable_name').count().sort_values(by=['user_id'],ascending=False)\n",
    "TreatOrder = df[df['trackable_type']=='Treatment'].groupby('trackable_name').count().sort_values(by=['user_id'],ascending=False)"
   ]
  },
  {
   "cell_type": "code",
   "execution_count": 7,
   "metadata": {},
   "outputs": [
    {
     "name": "stderr",
     "output_type": "stream",
     "text": [
      "/Library/Frameworks/Python.framework/Versions/3.6/lib/python3.6/site-packages/ipykernel_launcher.py:4: FutureWarning: using a dict on a Series for aggregation\n",
      "is deprecated and will be removed in a future version\n",
      "  after removing the cwd from sys.path.\n",
      "/Library/Frameworks/Python.framework/Versions/3.6/lib/python3.6/site-packages/ipykernel_launcher.py:5: FutureWarning: using a dict on a Series for aggregation\n",
      "is deprecated and will be removed in a future version\n",
      "  \"\"\"\n",
      "/Library/Frameworks/Python.framework/Versions/3.6/lib/python3.6/site-packages/ipykernel_launcher.py:6: FutureWarning: using a dict on a Series for aggregation\n",
      "is deprecated and will be removed in a future version\n",
      "  \n"
     ]
    }
   ],
   "source": [
    "def to_set(x):\n",
    "    return set(x)\n",
    "\n",
    "dfCondition = df[df['trackable_type']=='Condition'].groupby(['user_id','checkin_date','sex','age'])['trackable_name'].agg({'size': len, 'setCond': to_set})\n",
    "dfSymptom = df[df['trackable_type']=='Symptom'].groupby(['user_id','checkin_date'])['trackable_name'].agg({'size': len, 'setSym': to_set})\n",
    "dfTreatment = df[df['trackable_type']=='Treatment'].groupby(['user_id','checkin_date'])['trackable_name'].agg({'size': len, 'setTreat': to_set})\n",
    "\n",
    "dfLabel  = pd.merge(dfCondition.reset_index(), dfSymptom.reset_index()[['user_id','checkin_date','setSym']], on=['user_id','checkin_date'])\n",
    "dfLabel  = pd.merge(dfLabel, dfTreatment.reset_index()[['user_id','checkin_date','setTreat']], on=['user_id','checkin_date'])"
   ]
  },
  {
   "cell_type": "code",
   "execution_count": 8,
   "metadata": {},
   "outputs": [],
   "source": [
    "SexVariable = pd.get_dummies(dfLabel['sex']).values"
   ]
  },
  {
   "cell_type": "code",
   "execution_count": 9,
   "metadata": {},
   "outputs": [],
   "source": [
    "# non-correct list of input\n",
    "listCond = list(CondOrder.index)\n",
    "listSym = list(SymOrder.index)\n",
    "listTreat = list(TreatOrder.index)\n",
    "\n",
    "listCond = listCond[:150]\n",
    "listSym = listSym[:150]\n",
    "listTreat = listTreat[:100]"
   ]
  },
  {
   "cell_type": "code",
   "execution_count": 10,
   "metadata": {},
   "outputs": [
    {
     "data": {
      "text/plain": [
       "['TreatOrder.pkl']"
      ]
     },
     "execution_count": 10,
     "metadata": {},
     "output_type": "execute_result"
    }
   ],
   "source": [
    "from sklearn.externals import joblib\n",
    "joblib.dump(CondOrder.index, 'CondOrder.pkl') \n",
    "joblib.dump(SymOrder.index, 'SymOrder.pkl')\n",
    "joblib.dump(TreatOrder.index, 'TreatOrder.pkl')"
   ]
  },
  {
   "cell_type": "code",
   "execution_count": 11,
   "metadata": {},
   "outputs": [
    {
     "data": {
      "text/plain": [
       "['listTreat.pkl']"
      ]
     },
     "execution_count": 11,
     "metadata": {},
     "output_type": "execute_result"
    }
   ],
   "source": [
    "joblib.dump(listCond, 'listCond.pkl')\n",
    "joblib.dump(listSym, 'listSym.pkl')\n",
    "joblib.dump(listTreat, 'listTreat.pkl')"
   ]
  },
  {
   "cell_type": "code",
   "execution_count": 12,
   "metadata": {},
   "outputs": [],
   "source": [
    "Xage = np.array(list(dfLabel['age'])).reshape((-1,1))\n",
    "Xsex = SexVariable\n",
    "XCond = np.zeros((dfLabel.shape[0],len(listCond)))\n",
    "XSym = np.zeros((dfLabel.shape[0],len(listSym)))\n",
    "XTreat = np.zeros((dfLabel.shape[0],len(listTreat)))"
   ]
  },
  {
   "cell_type": "code",
   "execution_count": 13,
   "metadata": {},
   "outputs": [],
   "source": [
    "from sklearn import preprocessing\n",
    "from sklearn.preprocessing import OneHotEncoder\n",
    "le = preprocessing.LabelEncoder()\n",
    "enc = OneHotEncoder(sparse=False)\n",
    "\n"
   ]
  },
  {
   "cell_type": "code",
   "execution_count": 14,
   "metadata": {},
   "outputs": [],
   "source": [
    "le.fit(listCond)\n",
    "for i in range((dfLabel.shape[0])):\n",
    "    listTEmpo = list(dfLabel.iloc[i]['setCond'])\n",
    "    listTEmpo = [i for i in listTEmpo if i in listCond]\n",
    "    if len(listTEmpo)!=0:\n",
    "        indiceLoc = le.transform(listTEmpo)\n",
    "        for j in indiceLoc:\n",
    "            XCond[i,j]=1"
   ]
  },
  {
   "cell_type": "code",
   "execution_count": 15,
   "metadata": {},
   "outputs": [],
   "source": [
    "le.fit(listSym)\n",
    "for i in range((dfLabel.shape[0])):\n",
    "    listTEmpo = list(dfLabel.iloc[i]['setSym'])\n",
    "    listTEmpo = [i for i in listTEmpo if i in listSym]\n",
    "    if len(listTEmpo)!=0:\n",
    "        indiceLoc = le.transform(listTEmpo)\n",
    "        for j in indiceLoc:\n",
    "            XSym[i,j]=1"
   ]
  },
  {
   "cell_type": "code",
   "execution_count": 16,
   "metadata": {},
   "outputs": [],
   "source": [
    "le.fit(listTreat)\n",
    "for i in range((dfLabel.shape[0])):\n",
    "    listTEmpo = list(dfLabel.iloc[i]['setTreat'])\n",
    "    listTEmpo = [i for i in listTEmpo if i in listTreat]\n",
    "    if len(listTEmpo)!=0:\n",
    "        indiceLoc = le.transform(listTEmpo)\n",
    "        for j in indiceLoc:\n",
    "            XTreat[i,j]=1"
   ]
  },
  {
   "cell_type": "code",
   "execution_count": 17,
   "metadata": {},
   "outputs": [],
   "source": [
    "XFinal = np.concatenate((Xage, Xsex), axis=1)\n",
    "XFinal = np.concatenate((XFinal, XCond), axis=1)\n",
    "XFinal = np.concatenate((XFinal, XSym), axis=1)"
   ]
  },
  {
   "cell_type": "markdown",
   "metadata": {},
   "source": [
    "## Splitting the Data\n",
    "We split the data into train (70%), test (15%), and validation (15%)"
   ]
  },
  {
   "cell_type": "code",
   "execution_count": 18,
   "metadata": {},
   "outputs": [],
   "source": [
    "from sklearn.model_selection import train_test_split\n",
    "\n",
    "X_train, X_test, y_train, y_test = train_test_split(XFinal, XTreat, test_size=0.3, random_state=42)\n",
    "X_valid, X_test, y_valid, y_test = train_test_split(X_test, y_test, test_size=0.5, random_state=42)"
   ]
  },
  {
   "cell_type": "markdown",
   "metadata": {},
   "source": [
    "## Training the Model\n",
    "Model is a Random Forest Classifier\n",
    "We did a GridSearch to find the best hyperparameters which can be seen at the assignment of parameters:\n",
    "\n",
    "parameters = {'criterion':('gini', 'entropy'), 'bootstrap':(True, False),'max_features':('auto','log2',20,40)}\n",
    "\n",
    "As you can see below, we experimented with different models K-neighbors and Logistic Regression. "
   ]
  },
  {
   "cell_type": "code",
   "execution_count": 19,
   "metadata": {},
   "outputs": [
    {
     "data": {
      "text/plain": [
       "GridSearchCV(cv=None, error_score='raise',\n",
       "       estimator=RandomForestClassifier(bootstrap=True, class_weight=None, criterion='gini',\n",
       "            max_depth=None, max_features='auto', max_leaf_nodes=None,\n",
       "            min_impurity_decrease=0.0, min_impurity_split=None,\n",
       "            min_samples_leaf=1, min_samples_split=2,\n",
       "            min_weight_fraction_leaf=0.0, n_estimators=10, n_jobs=1,\n",
       "            oob_score=False, random_state=None, verbose=0,\n",
       "            warm_start=False),\n",
       "       fit_params=None, iid=True, n_jobs=1,\n",
       "       param_grid={'criterion': ('gini', 'entropy'), 'bootstrap': (True, False), 'max_features': ('auto', 'log2', 20, 40)},\n",
       "       pre_dispatch='2*n_jobs', refit=True, return_train_score='warn',\n",
       "       scoring=None, verbose=0)"
      ]
     },
     "execution_count": 19,
     "metadata": {},
     "output_type": "execute_result"
    }
   ],
   "source": [
    "from sklearn.model_selection import GridSearchCV\n",
    "from sklearn.ensemble import RandomForestClassifier\n",
    "from sklearn import linear_model\n",
    "from sklearn.neighbors import NearestNeighbors\n",
    "from sklearn import neighbors\n",
    "from sklearn.metrics import make_scorer\n",
    "from sklearn.metrics import accuracy_score\n",
    "\n",
    "\n",
    "clf = RandomForestClassifier()\n",
    "parameters = {'criterion':('gini', 'entropy'), 'bootstrap':(True, False),'max_features':('auto','log2',20,40)}\n",
    "\n",
    "#clf = linear_model.LogisticRegression()\n",
    "#parameters = {'C':(0.1,0.3,1,3,10)}\n",
    "\n",
    "#clf  = neighbors.KNeighborsClassifier()\n",
    "#parameters = {'n_neighbors':(2,3,4,5)}\n",
    "\n",
    "#scoring = {'Accuracy': make_scorer(accuracy_score)}\n",
    "\n",
    "grid = GridSearchCV(clf, parameters)\n",
    "\n",
    "grid.fit(X_train, y_train)"
   ]
  },
  {
   "cell_type": "code",
   "execution_count": 20,
   "metadata": {},
   "outputs": [],
   "source": [
    "y_test_pred = grid.predict(X_test)"
   ]
  },
  {
   "cell_type": "markdown",
   "metadata": {},
   "source": [
    "# Accuracy\n",
    "We have an accuracy score of 77% on average with an F1 score of 0.91"
   ]
  },
  {
   "cell_type": "code",
   "execution_count": 21,
   "metadata": {},
   "outputs": [],
   "source": [
    "from sklearn.metrics import accuracy_score\n",
    "from sklearn.metrics import f1_score"
   ]
  },
  {
   "cell_type": "code",
   "execution_count": 22,
   "metadata": {},
   "outputs": [
    {
     "data": {
      "text/plain": [
       "0.7730903994393833"
      ]
     },
     "execution_count": 22,
     "metadata": {},
     "output_type": "execute_result"
    }
   ],
   "source": [
    "accuracy_score(y_test, y_test_pred)"
   ]
  },
  {
   "cell_type": "code",
   "execution_count": 23,
   "metadata": {},
   "outputs": [
    {
     "data": {
      "text/plain": [
       "0.916130318610482"
      ]
     },
     "execution_count": 23,
     "metadata": {},
     "output_type": "execute_result"
    }
   ],
   "source": [
    "f1_score(y_test, y_test_pred, average='weighted')"
   ]
  },
  {
   "cell_type": "markdown",
   "metadata": {},
   "source": [
    "# Save our model"
   ]
  },
  {
   "cell_type": "code",
   "execution_count": 24,
   "metadata": {},
   "outputs": [
    {
     "data": {
      "text/plain": [
       "['gridForestModel.pkl']"
      ]
     },
     "execution_count": 24,
     "metadata": {},
     "output_type": "execute_result"
    }
   ],
   "source": [
    "from sklearn.externals import joblib\n",
    "joblib.dump(grid, 'gridForestModel.pkl') "
   ]
  },
  {
   "cell_type": "markdown",
   "metadata": {},
   "source": [
    "# Future Work and Experimentation Below"
   ]
  },
  {
   "cell_type": "code",
   "execution_count": 25,
   "metadata": {},
   "outputs": [],
   "source": [
    "#from sklearn.decomposition import PCA\n",
    "#pca = PCA(n_components=20)\n",
    "#pca.fit(XFinal)"
   ]
  },
  {
   "cell_type": "code",
   "execution_count": 26,
   "metadata": {},
   "outputs": [],
   "source": [
    "def TransformForPred(x):\n",
    "    age = x[0]/50.0\n",
    "    sex = x[1].lower()\n",
    "    if s=='female': return np.asarray([0,1,0,0])\n",
    "    elif s=='other': return np.asarray([0,0,0,1])\n",
    "    elif s=='male': return np.asarray([0,0,1,0])\n",
    "    elif s=='doesnt_say': return np.asarray([1,0,0,0])\n",
    "    CondOrderIndex = joblib.load('CondOrder.pkl') \n",
    "    SymOrderIndex = joblib.load('SymOrder.pkl') \n",
    "    TreatOrderIndex = jobli\n",
    "    b.load('TreatOrder.pkl')\n",
    "    listCondRead = x[2]\n",
    "    listSymRead = x[3]\n",
    "    XCond = np.zeros((1,len(listCond)))\n",
    "    XSym = np.zeros((1,len(listSym)))\n",
    "   \n",
    "    le = joblib.load('leCond.pkl')\n",
    "    listCond=joblib.load('listCond.pkl')\n",
    "    \n",
    "    listTEmpo = listCondRead \n",
    "    listTEmpo = [i for i in listTEmpo if i in listCond]\n",
    "    #print(listTEmpo)\n",
    "    if len(listTEmpo)!=0:\n",
    "        #print(listTEmpo)\n",
    "        #print(le.transform(listTEmpo))\n",
    "        #print(i)\n",
    "        indiceLoc = le.transform(listTEmpo)\n",
    "        for j in indiceLoc:\n",
    "            XCond[i,j]=1\n",
    "            \n",
    "    le = joblib.load('leSym.pkl')\n",
    "    listSym=joblib.load('listCond.pkl')\n",
    "\n",
    "    listTEmpo = listSymRead\n",
    "    listTEmpo = [i for i in listTEmpo if i in listSym]\n",
    "    #print(listTEmpo)\n",
    "    if len(listTEmpo)!=0:\n",
    "        #print(listTEmpo)\n",
    "        #print(le.transform(listTEmpo))\n",
    "        #print(i)\n",
    "        indiceLoc = le.transform(listTEmpo)\n",
    "        for j in indiceLoc:\n",
    "            XSym[i,j]=1"
   ]
  },
  {
   "cell_type": "code",
   "execution_count": null,
   "metadata": {},
   "outputs": [],
   "source": []
  },
  {
   "cell_type": "code",
   "execution_count": null,
   "metadata": {},
   "outputs": [],
   "source": []
  },
  {
   "cell_type": "code",
   "execution_count": null,
   "metadata": {},
   "outputs": [],
   "source": []
  },
  {
   "cell_type": "code",
   "execution_count": null,
   "metadata": {},
   "outputs": [],
   "source": []
  },
  {
   "cell_type": "code",
   "execution_count": null,
   "metadata": {},
   "outputs": [],
   "source": []
  },
  {
   "cell_type": "code",
   "execution_count": null,
   "metadata": {},
   "outputs": [],
   "source": []
  },
  {
   "cell_type": "code",
   "execution_count": null,
   "metadata": {},
   "outputs": [],
   "source": []
  },
  {
   "cell_type": "code",
   "execution_count": null,
   "metadata": {},
   "outputs": [],
   "source": []
  },
  {
   "cell_type": "code",
   "execution_count": null,
   "metadata": {},
   "outputs": [],
   "source": []
  },
  {
   "cell_type": "code",
   "execution_count": null,
   "metadata": {},
   "outputs": [],
   "source": []
  },
  {
   "cell_type": "code",
   "execution_count": null,
   "metadata": {},
   "outputs": [],
   "source": []
  },
  {
   "cell_type": "code",
   "execution_count": null,
   "metadata": {},
   "outputs": [],
   "source": []
  },
  {
   "cell_type": "code",
   "execution_count": null,
   "metadata": {},
   "outputs": [],
   "source": []
  },
  {
   "cell_type": "code",
   "execution_count": null,
   "metadata": {},
   "outputs": [],
   "source": []
  },
  {
   "cell_type": "code",
   "execution_count": null,
   "metadata": {},
   "outputs": [],
   "source": []
  },
  {
   "cell_type": "code",
   "execution_count": null,
   "metadata": {},
   "outputs": [],
   "source": []
  },
  {
   "cell_type": "code",
   "execution_count": null,
   "metadata": {},
   "outputs": [],
   "source": []
  },
  {
   "cell_type": "code",
   "execution_count": null,
   "metadata": {},
   "outputs": [],
   "source": []
  },
  {
   "cell_type": "code",
   "execution_count": null,
   "metadata": {},
   "outputs": [],
   "source": []
  },
  {
   "cell_type": "code",
   "execution_count": null,
   "metadata": {},
   "outputs": [],
   "source": []
  },
  {
   "cell_type": "code",
   "execution_count": null,
   "metadata": {},
   "outputs": [],
   "source": []
  },
  {
   "cell_type": "code",
   "execution_count": null,
   "metadata": {},
   "outputs": [],
   "source": []
  },
  {
   "cell_type": "code",
   "execution_count": null,
   "metadata": {},
   "outputs": [],
   "source": []
  },
  {
   "cell_type": "code",
   "execution_count": null,
   "metadata": {},
   "outputs": [],
   "source": []
  },
  {
   "cell_type": "code",
   "execution_count": null,
   "metadata": {},
   "outputs": [],
   "source": []
  },
  {
   "cell_type": "code",
   "execution_count": null,
   "metadata": {},
   "outputs": [],
   "source": []
  },
  {
   "cell_type": "code",
   "execution_count": null,
   "metadata": {},
   "outputs": [],
   "source": []
  },
  {
   "cell_type": "code",
   "execution_count": null,
   "metadata": {
    "scrolled": true
   },
   "outputs": [],
   "source": [
    " "
   ]
  },
  {
   "cell_type": "code",
   "execution_count": null,
   "metadata": {},
   "outputs": [],
   "source": []
  },
  {
   "cell_type": "code",
   "execution_count": null,
   "metadata": {},
   "outputs": [],
   "source": []
  },
  {
   "cell_type": "code",
   "execution_count": null,
   "metadata": {},
   "outputs": [],
   "source": []
  },
  {
   "cell_type": "code",
   "execution_count": null,
   "metadata": {},
   "outputs": [],
   "source": []
  },
  {
   "cell_type": "code",
   "execution_count": null,
   "metadata": {},
   "outputs": [],
   "source": []
  },
  {
   "cell_type": "code",
   "execution_count": 27,
   "metadata": {},
   "outputs": [],
   "source": [
    "#tempo=df[df['trackable_type']=='Treatment']\n",
    "listSick = ['depression']\n",
    "listSick = ['trackable_name','depression','anxiety','fatigue','generalized anxiety disorder',\n",
    "            'post-traumatic stress disorder (ptsd)','ptsd','social anxiety disorder',\n",
    "            'bipolar disorder','bipolar type ii','major depressive disorder',\n",
    "            'obsessive-compulsive disorder','borderline personality disorder','c-ptsd',\n",
    "            'stress','dysthymia','panic disorder','ocd','cptsd','social anxiety','bipolar type 1',\n",
    "            'dissociative disorders','anxiety disorder','avoidant personality disorder',\n",
    "            'irritability','mental health','atypical depression','psychosis','depressed mood',\n",
    "            'dependent personality disorder','adult add','seasonal affective disorder (sad)',\n",
    "            'schizotypal personality disorder','post traumatic stress disorder','mania',\n",
    "            'low energy','mood','panic','schizoid personality disorder','low mood',\n",
    "            'schizophrenia','body dysmorphic disorder','dissociative identity disorder',\n",
    "            'complex ptsd','suicide and suicidal thoughts','mood disorders','suicidal thoughts',\n",
    "            'depersonalization-derealization disorder','psychopathy','depression/anxiety',\n",
    "            'general anxiety disorder','self harm','trouble anxieux g’©n’©ralis’©',\n",
    "            'depressed','clinical depression','dark period','mental illness','teen depression',\n",
    "            'self-injury/cutting','cranky','overwhelmed','suicidal ideation','major depression',\n",
    "            'obsessive compulsive disorder']\n",
    "tempo2 = df[df['trackable_name'].isin(listSick) ]\n",
    "tempo2 = tempo2[['user_id','checkin_date']].drop_duplicates(['user_id','checkin_date'])\n",
    "t1=pd.merge(df, tempo2[['user_id','checkin_date']], on=['user_id','checkin_date'])\n",
    "t1.to_csv('OnlyMental.csv')\n",
    "t1[t1['trackable_type']=='Symptom'].groupby('trackable_name').count().sort_values(by=['user_id'],ascending=False).to_csv('Symptom.csv')\n",
    "t1[t1['trackable_type']=='Condition'].groupby('trackable_name').count().sort_values(by=['user_id'],ascending=False).to_csv('Condition.csv')\n",
    "t1[t1['trackable_type']=='Treatment'].groupby('trackable_name').count().sort_values(by=['user_id'],ascending=False).to_csv('Treatment.csv')"
   ]
  },
  {
   "cell_type": "code",
   "execution_count": null,
   "metadata": {},
   "outputs": [],
   "source": []
  },
  {
   "cell_type": "code",
   "execution_count": null,
   "metadata": {},
   "outputs": [],
   "source": []
  },
  {
   "cell_type": "code",
   "execution_count": null,
   "metadata": {},
   "outputs": [],
   "source": []
  },
  {
   "cell_type": "code",
   "execution_count": null,
   "metadata": {},
   "outputs": [],
   "source": []
  },
  {
   "cell_type": "code",
   "execution_count": null,
   "metadata": {},
   "outputs": [],
   "source": []
  },
  {
   "cell_type": "code",
   "execution_count": null,
   "metadata": {},
   "outputs": [],
   "source": []
  },
  {
   "cell_type": "code",
   "execution_count": null,
   "metadata": {},
   "outputs": [],
   "source": []
  },
  {
   "cell_type": "code",
   "execution_count": null,
   "metadata": {},
   "outputs": [],
   "source": []
  }
 ],
 "metadata": {
  "kernelspec": {
   "display_name": "Python 3",
   "language": "python",
   "name": "python3"
  },
  "language_info": {
   "codemirror_mode": {
    "name": "ipython",
    "version": 3
   },
   "file_extension": ".py",
   "mimetype": "text/x-python",
   "name": "python",
   "nbconvert_exporter": "python",
   "pygments_lexer": "ipython3",
   "version": "3.6.4"
  }
 },
 "nbformat": 4,
 "nbformat_minor": 2
}
